{
 "cells": [
  {
   "cell_type": "code",
   "execution_count": 3,
   "id": "b8d81dc1-710d-4cf1-9961-a2ef458bea64",
   "metadata": {},
   "outputs": [],
   "source": [
    "import datetime # Imports module for working with date&time\n",
    "import os # Imports the module for working with reading and writing to the file\n",
    "import shutil # Imports from the module for working with collecting file\n",
    "\n",
    "#Global Variables \n",
    "STUDENT_ID = \"850003235\" #Adding student number\n",
    "MAIN_FILE = f\"LHMS_{STUDENT_ID}.txt\" # store the allocated rooms in the dictionary \n",
    "\n",
    "# In-memory data structures for rooms and allocations\n",
    "rooms = [] \n",
    "allocated_rooms = {} \n",
    "# Dictionary for room types\n",
    "room_types = { #Showing room type, price, and different features \n",
    "    \"Standard\": {\"price\": 700, \"features\": [\"TV\", \"Fan\"]},     # $700 per week ($100/day)\n",
    "    \"Deluxe\": {\"price\": 1400, \"features\": [\"TV\", \"Aircon\", \"WI-FI\"]}, # $1400 per week ($200/day)\n",
    "    \"Suite\": {\"price\": 2450, \"features\": [\"TV\", \"Aircon\", \"WI-FI\", \"Balcony\"]} # $2450 per week ($350/day)\n",
    "}\n",
    "#  Helper Functions\n",
    "def reset_globals(): #Function to reset global variables\n",
    "#\n",
    "    global rooms, allocated_rooms #shows that we will be modifying these\n",
    "    rooms = [] #empty lisit for storing rooms\n",
    "    allocated_rooms = {} #empty dictionary\n",
    "    try: #try block to prevent errors\n",
    "        if os.path.exists(MAIN_FILE):#checking if the file exsits\n",
    "            os.remove(MAIN_FILE)#atemmp to delete this file \n",
    "            print(f\"File '{MAIN_FILE}' removed successfully.\") #file removed successfully \n",
    "    except OSError as e: #catches OS errors if it fails\n",
    "        print(f\"Error removing file '{MAIN_FILE}': {e}\")#messsage if file is removed\n",
    "    print(\"\\n Global state reset\")#comfiring the reset\n"
   ]
  },
  {
   "cell_type": "code",
   "execution_count": 4,
   "id": "e26f1a78-a8b5-4291-a539-1c67e7f5c120",
   "metadata": {},
   "outputs": [],
   "source": [
    "### MENU OPTIONS\n",
    "def display_menu(): \n",
    "    \"Prints the main menu options for the Hotel Management System.\"\n",
    "    print(\"\\nLANGHAM HOTEL MANAGEMENT SYSTEM MENU\") #header for the menu\n",
    "    print(\" 1 - Add Rooms\")#option to add rooms\n",
    "    print(\" 2 - Delete Rooms\")#option to delete roooms\n",
    "    print(\" 3 - Display Room Details\")#option to display room details\n",
    "    print(\" 4 - Allocate Rooms\")#option to allocate a room\n",
    "    print(\" 5 - Display Room Allocation Details\")#option to display room allocation\n",
    "    print(\" 6 - Billing & De-Allocation\")#option to de-allocate and bill guest\n",
    "    print(\" 7 - Save Room Allocations To a File\")#option to save room allocation to the file\n",
    "    print(\" 8 - Show Room Allocations From a File\")#option to show room allocation from the file\n",
    "    print(\" 9 - Backup and Clear Room Allocation File\")#option to backup and clear original file\n",
    "    print(\" 0 - Exit\")#exit the system"
   ]
  },
  {
   "cell_type": "code",
   "execution_count": 5,
   "id": "470a7cc8-822a-4a14-8cd1-5516bc839594",
   "metadata": {},
   "outputs": [],
   "source": [
    "def get_validated_int_input(prompt, min_value=1): \n",
    "#forces the user to use an integer with a minimum value of 1\n",
    "    while True: #loop until the input is recived\n",
    "        user_input = input(prompt).strip() \n",
    "        \n",
    "        try:\n",
    "            value = int(user_input) # convert input to an integer\n",
    "        except ValueError: #handles non-integer\n",
    "            print(\"Invalid input. Please enter a whole number.\") \n",
    "            continue # restart the loop\n",
    "        if value < min_value: #checking if the integer meets the minimum value\n",
    "            print(f\"The number must be at least {min_value}.\")\n",
    "            continue #restart the loop\n",
    "        return value #returns the right integer\n",
    "        \n",
    "def add_room(room_number): #Defines the function that adds a new room and number\n",
    "    print(\"\\nAdd Room\") #add room as a heading\n",
    "    print(\"Available Room Types:\")#lets the user know of the next output\n",
    "    for rt, details in room_types.items():\n",
    "        #displays each room type, features, and weekly price\n",
    "        print(f\"- {rt} (Weekly Price: ${details['price']}, Features: {', '.join(details['features'])})\")\n",
    "\n",
    "    room_type = input(f\"Enter room type for {room_number}: \").strip()#user to add room type\n",
    "\n",
    "    try: #try block to stop an error \n",
    "        if room_number in rooms: #checks if the room number exsits in the list\n",
    "            print(f\"Room {room_number} already exists.\") #shows that the room already exsits\n",
    "            return #exit function if it exists\n",
    "\n",
    "        if room_type not in room_types: #checks if room type is corret\n",
    "            #raises a error if user picks wrong room type\n",
    "            raise ValueError(\"Invalid room type. Please choose from Standard, Deluxe, or Suite.\")\n",
    "\n",
    "        rooms.append(room_number) #if both room type and room number are correct, add it \n",
    "        allocated_rooms[room_number] = { # adding room number to allocated room\n",
    "            \"type\": room_type, #stores room type\n",
    "            \"price\": room_types[room_type][\"price\"],#stores weekly price\n",
    "            \"features\": room_types[room_type][\"features\"],#stores room fetures from room type\n",
    "            \"guest\": None, #showing the room is unoccupied\n",
    "            \"days_staying\": 0 #days staying is 0\n",
    "        }\n",
    "        print(f\"Room {room_number} ({room_type}) added successfully.\") #if added corret it adds it successfully\n",
    "    except ValueError as ve: #catches a ValueError\n",
    "        print(f\"Error adding room: {ve}\") #displays an error message\n",
    "    except Exception as e: #catches any other erros\n",
    "        print(f\"An unexpected error occurred while adding room: {e}\") #prints a general message for other erros\n"
   ]
  },
  {
   "cell_type": "code",
   "execution_count": 6,
   "id": "c769dfe4-d9e9-42bb-afde-e35c6ee81bda",
   "metadata": {},
   "outputs": [],
   "source": [
    "def delete_room(room_number): #Defines the function that deletes a room and number\n",
    "\n",
    "    print(f\"\\n Delete Room {room_number}\") #displays which room is being deleted\n",
    "    try: #try block where errors will be monitored\n",
    "        if room_number not in rooms: #checks if the room exsits\n",
    "            raise KeyError(f\"Room {room_number} does not exist in the system.\")#Key error if room is not there\n",
    "        \n",
    "        if room_number in allocated_rooms and allocated_rooms[room_number].get(\"guest\"):\n",
    "            #checks if the room is allocated\n",
    "            print(f\"Error: Room {room_number} is currently occupied by {allocated_rooms[room_number]['guest']}. Cannot delete.\")\n",
    "            # can't delete an occupied room\n",
    "            return #exits a function if the room is occupied\n",
    "\n",
    "        rooms.remove(room_number) #if the room is removed, it checks for the room number\n",
    "        if room_number in allocated_rooms: #if the room is in allocated rooms\n",
    "            del allocated_rooms[room_number] #deletes details from allocated room\n",
    "        print(f\"Room {room_number} deleted successfully.\") #room deleted successfully\n",
    "    except KeyError as ke: #catches a key error\n",
    "        print(f\"Error deleting room: {ke}\")#if the room doesnt exsits \n",
    "    except ValueError as ve:#catches a ValueError\n",
    "        print(f\"Error deleting room: {ve}\")#displays an error message\n",
    "    except Exception as e:#catches any other errors\n",
    "        print(f\"An unexpected error occurred while deleting room: {e}\")#prints a general message for other errors"
   ]
  },
  {
   "cell_type": "code",
   "execution_count": 7,
   "id": "cfbdbd6b-c64b-4bb0-8b49-28a4791dda1a",
   "metadata": {},
   "outputs": [],
   "source": [
    "\n",
    "def display_rooms(): # Function to display details of all rooms\n",
    "    print(\"\\nDisplay Room Details\") # Print a header\n",
    "    if not rooms: # Check if the rooms list is empty\n",
    "        print(\"No rooms available.\") # tells user if no rooms\n",
    "        return # Exit function\n",
    "\n",
    "    print(\"\\nRoom Details:\") # Print room details\n",
    "    for room in rooms: # Loop each room number in the list\n",
    "        room_info = allocated_rooms.get(room) # Get detailed details from room\n",
    "        if room_info: # continues if room information was found\n",
    "            try: # try block for error\n",
    "                room_type = room_info.get('type', 'N/A') # gets room type\n",
    "                room_price_weekly = room_info.get('price', 'N/A') # gets weekly price\n",
    "                \n",
    "                features_list = room_info.get('features', []) # Get list of features\n",
    "               \n",
    "                if not isinstance(features_list, list): # checks if feature list is a list\n",
    "                    features_str = \"Corrupted Feature Data\" # default string if data is corrupted\n",
    "                else:\n",
    "                    features_str = \", \".join(map(str, features_list)) # Join features into a string\n",
    "                \n",
    "                guest_status = \"Unoccupied\" # displays status as unoccupied\n",
    "                if room_info.get('guest'): # Check if guest exists and has a value\n",
    "                    # status is set with name and days staying\n",
    "                    guest_status = f\"Occupied by {room_info['guest']} for {room_info.get('days_staying', 'N/A')} days\"\n",
    "\n",
    "                # Print all room details \n",
    "                print(f\"Room {room}: {room_type} | Weekly Price: ${room_price_weekly} | Features: {features_str} | Status: {guest_status}\")\n",
    "            \n",
    "            except KeyError as ke: # Catch KeyError\n",
    "                print(f\"Warning: Missing data for room {room} (KeyError: {ke}). Displaying partial info.\")\n",
    "            except TypeError as te: # Catch TypeError\n",
    "                print(f\"Warning: Corrupted data type for room {room} (TypeError: {te}). Displaying partial info.\")\n",
    "            except Exception as e: # Catch any other errors\n",
    "                print(f\"An unexpected error when displaying room {room}: {e}\")\n",
    "        else:\n",
    "            # If room_info was None\n",
    "            print(f\"Room {room}: Details not fully set up (no allocated_rooms entry).\")"
   ]
  },
  {
   "cell_type": "code",
   "execution_count": 8,
   "id": "9936dbc8-6e36-49be-af3a-40dffdbc28f3",
   "metadata": {},
   "outputs": [],
   "source": [
    "# Defines a function to allocate a room\n",
    "def allocate_room(room_number, guest_name):\n",
    "\n",
    "    print(f\"\\nAllocate Room {room_number} to {guest_name}\")\n",
    "    # Print a header with room and guest\n",
    "    try: #try block for error handling\n",
    "        if room_number not in rooms: # Check if the room exists\n",
    "            raise KeyError(f\"Room {room_number} does not exist. Please add it.\") #KeyError if room does not exist\n",
    "        room_info = allocated_rooms.get(room_number)\n",
    "        if not room_info: #details from the room number\n",
    "            raise ValueError(f\"Internal Error: Details for room {room_number} are incomplete. Please re-add the room.\")\n",
    "        if room_info.get(\"guest\"): # Check if the room is already occupied \n",
    "            # let user know if the room is already occupied\n",
    "            print(f\"Room {room_number} is already occupied by {room_info['guest']}.\")\n",
    "            return\n",
    "        current_room_type = room_info.get('type', 'Unknown Type')# show the room type for display\n",
    "        print(f\"Room {room_number} is a {current_room_type} room.\")# Display room type\n",
    "        # Get integer input for days staying\n",
    "        days_staying = get_validated_int_input(\"Enter number of days staying: \", min_value=1)\n",
    " \n",
    "        room_info[\"guest\"] = guest_name #get guest name\n",
    "        room_info[\"days_staying\"] = days_staying #get how many days the guest is staying\n",
    "# confirming message\n",
    "        print(f\"Room {room_number} ({current_room_type}) allocated to {guest_name} successfully for {days_staying} days.\")\n",
    "\n",
    "    except KeyError as ke: # Catch KeyError\n",
    "        print(f\"Error allocating room: {ke}\") # Print KeyError message\n",
    "    except ValueError as ve: # Catch ValueError\n",
    "        print(f\"Error allocating room: {ve}\") # show ValueError message\n",
    "    except Exception as e: #unexpected errors\n",
    "        print(f\"An unexpected error occurred while allocating room: {e}\")\n"
   ]
  },
  {
   "cell_type": "code",
   "execution_count": 9,
   "id": "004e5a50-0ec0-40d1-8157-d896534f06dd",
   "metadata": {},
   "outputs": [],
   "source": [
    " # Defines the display details of allocated rooms function\n",
    "\n",
    "def display_allocated_rooms():\n",
    "\n",
    "    print(\"\\nDisplay Allocated Rooms\") # Prints a header\n",
    "    found_allocated = False #track if any allocated rooms are found\n",
    "    \n",
    "    for room_num, details in allocated_rooms.items():#Loop through details in the allocatedrooms dictionary\n",
    "        if details.get(\"guest\"): # Check if the guest exists\n",
    "            found_allocated = True #True if allocated room is found\n",
    "            try:\n",
    "                room_type = details.get('type', 'Unknown')  #gets the room type default Unknown\n",
    "                guest_name = details.get('guest', 'N/A')# Get guest name default N/A\n",
    "                room_price_weekly = details.get('price', 'N/A')# Get weekly price\n",
    "                days_staying = details.get('days_staying', 'N/A')# Get days staying\n",
    "                \n",
    "                features_list = details.get('features', [])# Get features list\n",
    "                if not isinstance(features_list, list): # sees if features list is not a list\n",
    "                    features_str = \"Corrupted Feature Data\"\n",
    "                    print(f\"Warning: Corrupted features data for room {room_num}.\")\n",
    "                else:\n",
    "                    features_str = \", \".join(map(str, features_list))  # Join features into string \n",
    "                  # display details for the allocated room  \n",
    "                print(f\"Room {room_num} ({room_type}) - Guest: {guest_name} - \"\n",
    "                      f\"Weekly Price: ${room_price_weekly} - Days Staying: {days_staying} - \"\n",
    "                      f\"Features: {features_str}\")\n",
    "            except KeyError as ke:  # Catch KeyError\n",
    "                print(f\"Warning: Missing data for allocated room {room_num} (KeyError: {ke}). Displaying partial info.\")\n",
    "            except TypeError as te:  # Catch TypeError\n",
    "                print(f\"Warning: Corrupted data type for allocated room {room_num} (TypeError: {te}). Displaying partial info.\")\n",
    "            except Exception as e: # Catch any other error\n",
    "                print(f\"An unexpected error occurred displaying allocated room {room_num}: {e}\")\n",
    "    \n",
    "    if not found_allocated: \n",
    "        print(\"No rooms currently allocated.\")               \n"
   ]
  },
  {
   "cell_type": "code",
   "execution_count": 10,
   "id": "63dfefdf-a7cc-405a-b546-ab5858f3a728",
   "metadata": {},
   "outputs": [],
   "source": [
    "# Defines a function to deallocate a room and billing\n",
    "def deallocate_room(room_number):\n",
    "\n",
    "    print(f\"\\nDeallocate Room {room_number}\") #header room and number\n",
    "\n",
    "    try:\n",
    "        if room_number not in allocated_rooms: # Check if the room number exists\n",
    "             # If not found raise a KeyError\n",
    "            raise KeyError(f\"Room {room_number} does not exist in allocations.\")\n",
    "\n",
    "        room_info = allocated_rooms[room_number]# Get the information from dictionary \n",
    "        if not room_info.get(\"guest\"):# Checks if the room is currently occupied\n",
    "            raise ValueError(f\"Room {room_number} is not currently occupied.\")\n",
    "        guest_name = room_info['guest']# Get the name of the guest\n",
    "        room_type = room_info.get('type', 'N/A') # Get the room type\n",
    "        \n",
    "        features_list = room_info.get('features', [])# Get the list of features\n",
    "        if not isinstance(features_list, list): # Check if the features are not a list\n",
    "            features_str = \"Corrupted Feature Data\"\n",
    "        else:\n",
    "            features_str = \", \".join(map(str, features_list))# Join features into a string\n",
    "        \n",
    "        weekly_price = room_info.get('price', 0)# Get the rooms weekly price\n",
    "        days_stayed = room_info.get('days_staying', 0)# Get the number of days\n",
    "\n",
    "        total_charge = 0 #total charge for billing\n",
    "        billing_denominator = 7 #number of days in a week for daily rate calculation\n",
    "        try:\n",
    "             # Check if price or days stayed are zero\n",
    "            if weekly_price == 0 or days_stayed == 0:\n",
    "                print(\"Warning: Price or days stayed information is missing/zero. Cannot calculate bill.\")\n",
    "                total_charge = 0\n",
    "            else: #if not 0 calculate daily price\n",
    "                daily_price = weekly_price / billing_denominator #weeky price divied by days stayed\n",
    "                total_charge = round(daily_price * days_stayed, 2)\n",
    "        except ZeroDivisionError:# Catch ZeroDivisionError\n",
    "            print(f\"Error: Cannot calculate bill for room {room_number} due to division by zero (e.g., trying to divide by zero days in a week).\")\n",
    "            total_charge = 0 \n",
    "        room_info[\"guest\"] = None #this makes room unoccupied \n",
    "        room_info[\"days_staying\"] = 0 #resets days to 0\n",
    "        #room is not unoccupied\n",
    "        print(f\"Room {room_number} released. Was occupied by {guest_name}.\")#show who it was occupied by\n",
    "        print(f\"Billing Details: Room Type {room_type}, Features: {features_str}.\")# Print billing details\n",
    "        print(f\"Weekly Rate: ${weekly_price}, Days Stayed: {days_stayed}.\")\n",
    "        print(f\"Total Charge: ${total_charge}.\") #show total charge\n",
    "    except KeyError as ke:#catch KeyError\n",
    "        print(f\"Error deallocating room: {ke}\")\n",
    "    except ValueError as ve:# Catch ValueError\n",
    "        print(f\"Error deallocating room: {ve}\")\n",
    "    except Exception as e:# Catch other errors \n",
    "        print(f\"An unexpected error occurred while deallocating room: {e}\")\n"
   ]
  },
  {
   "cell_type": "code",
   "execution_count": 11,
   "id": "afdd2088-79c0-4b26-97b2-cef784403d08",
   "metadata": {},
   "outputs": [],
   "source": [
    "#a function to save allocated room details to a file\n",
    "def save_allocations_to_file():\n",
    "    print(\"\\nSave Allocations to File\")\n",
    "    # the number of currently allocated rooms \n",
    "    allocated_count = sum(1 for details in allocated_rooms.values() if details.get(\"guest\"))\n",
    "    if allocated_count == 0:# Check if there are no rooms allocated\n",
    "        print(\"No rooms currently allocated to save.\")#displays no room allocated\n",
    "        return # Exit function if theres nothing to save\n",
    "\n",
    "    try:\n",
    "        with open(MAIN_FILE, \"w\") as file:# Opens file in write mode \n",
    "            for room, details in allocated_rooms.items():#goes through room deatils\n",
    "                guest_name = details.get(\"guest\") # Get the guest's name for the current room\n",
    "                if guest_name:#continue only if the room is currently occupied\n",
    "                    room_type = details.get('type', 'Unknown')\n",
    "                    room_price_weekly = details.get('price', 'N/A')\n",
    "                    days_staying = details.get('days_staying', 'N/A')\n",
    "                    \n",
    "                    features_list = details.get('features', [])\n",
    "                    if not isinstance(features_list, list):\n",
    "                        features_str = \"Corrupted Feature Data\"\n",
    "                        print(f\"Warning: Corrupted features data for room {room} during save.\")\n",
    "                    else:\n",
    "                         # Convert all features to string\n",
    "                        features_str = \", \".join(map(str, features_list)) \n",
    "                    file.write(f\"Room {room}, Type: {room_type}, Guest: {guest_name}, Weekly Price: ${room_price_weekly}, Days Staying: {days_staying}, Features: {features_str}\\n\")\n",
    "        print(f\"Room allocations saved successfully to '{MAIN_FILE}'.\")\n",
    "    except IOError as e: #Catch a IOE Error\n",
    "        print(f\"Error saving allocations to file '{MAIN_FILE}': {e}. Check permissions or disk space.\")\n",
    "    except Exception as e:#Catchs any other errors\n",
    "        print(f\"An unexpected error occurred during saving allocations: {e}\")\n"
   ]
  },
  {
   "cell_type": "code",
   "execution_count": 14,
   "id": "cb3af0e3-f891-45df-8aa6-a69783b7a7fe",
   "metadata": {},
   "outputs": [],
   "source": [
    "#a function to display room allocations read from a file\n",
    "def display_allocations_from_file():\n",
    "\n",
    "    print(\"\\nDisplay Allocations From File\")\n",
    "    try:\n",
    "        with open(MAIN_FILE, \"r\") as file:\n",
    "            content = file.read() # Reads content of the file\n",
    "            if not content.strip():# Checks if there is conent or a black space\n",
    "                print(f\"The file '{MAIN_FILE}' is empty.\") #let user know if its empty\n",
    "            else:\n",
    "                print(\"\\nRoom Allocations from File:\\n\" + content)#show content details\n",
    "    except FileNotFoundError: #catches a file not found error\n",
    "        print(f\"Error: The file '{MAIN_FILE}' was not found. No records available.\")\n",
    "    except IOError as e: # Catch any other IOError\n",
    "        print(f\"An I/O error occurred with file '{MAIN_FILE}': {e}. Could not display contents.\")\n",
    "    except Exception as e:\n",
    "        print(f\"An unexpected error occurred during display from file: {e}\")\n"
   ]
  },
  {
   "cell_type": "code",
   "execution_count": 15,
   "id": "1f02e5c6-cfc8-487e-8a82-3e18532489c3",
   "metadata": {},
   "outputs": [],
   "source": [
    "def backup_and_clear_allocations(): #a function to back up and clear the allocation file\n",
    "\n",
    "    print(\"\\nBackup and Clear Allocations\")\n",
    "     # Creates a backup filename with student number and timestamp\n",
    "    backup_filename = f\"LHMS_{STUDENT_ID}_Backup_{datetime.datetime.now().strftime('%Y-%m-%d_%H-%M-%S')}.txt\"\n",
    "    \n",
    "    try: #a try block for file operations\n",
    "        if not os.path.exists(MAIN_FILE): ## Check if the original file exists\n",
    "            print(f\"Error: Original file '{MAIN_FILE}' does not exist to back up. No backup performed.\")\n",
    "            return\n",
    "        \n",
    "        shutil.copy(MAIN_FILE, backup_filename) # Copy the file to the newly created backup filename\n",
    "        print(f\"Backup saved as '{backup_filename}'.\")\n",
    "\n",
    "        open(MAIN_FILE, \"w\").close() # Open the main file in write mode\n",
    "        print(f\"Original allocation file '{MAIN_FILE}' has been cleared.\")\n",
    "    except FileNotFoundError as e: #catch file not found\n",
    "        print(f\"Error backing up: {e}. The file might have been removed just before copying.\")\n",
    "    except IOError as e: # Catch any other IOError\n",
    "        print(f\"An I/O error occurred during backup or clear operation: {e}\")\n",
    "    except Exception as e:#catches any other error\n",
    "        print(f\"An unexpected error occurred during backup and clear: {e}\")\n"
   ]
  },
  {
   "cell_type": "code",
   "execution_count": null,
   "id": "87b49db3-823f-4351-ae7a-5bb67aeaae8d",
   "metadata": {},
   "outputs": [
    {
     "name": "stdout",
     "output_type": "stream",
     "text": [
      "Welcome to Langham Hotel Management System!\n",
      "\n",
      "LANGHAM HOTEL MANAGEMENT SYSTEM MENU\n",
      " 1 - Add Rooms\n",
      " 2 - Delete Rooms\n",
      " 3 - Display Room Details\n",
      " 4 - Allocate Rooms\n",
      " 5 - Display Room Allocation Details\n",
      " 6 - Billing & De-Allocation\n",
      " 7 - Save Room Allocations To a File\n",
      " 8 - Show Room Allocations From a File\n",
      " 9 - Backup and Clear Room Allocation File\n",
      " 0 - Exit\n"
     ]
    },
    {
     "name": "stdin",
     "output_type": "stream",
     "text": [
      "Enter Your Choice Number:  1\n",
      "Enter Room Number to Add:  1\n"
     ]
    },
    {
     "name": "stdout",
     "output_type": "stream",
     "text": [
      "\n",
      "Add Room\n",
      "Available Room Types:\n",
      "- Standard (Weekly Price: $700, Features: TV, Fan)\n",
      "- Deluxe (Weekly Price: $1400, Features: TV, Aircon, WI-FI)\n",
      "- Suite (Weekly Price: $2450, Features: TV, Aircon, WI-FI, Balcony)\n"
     ]
    },
    {
     "name": "stdin",
     "output_type": "stream",
     "text": [
      "Enter room type for 1:  Standard\n"
     ]
    },
    {
     "name": "stdout",
     "output_type": "stream",
     "text": [
      "Room 1 (Standard) added successfully.\n",
      "\n",
      "LANGHAM HOTEL MANAGEMENT SYSTEM MENU\n",
      " 1 - Add Rooms\n",
      " 2 - Delete Rooms\n",
      " 3 - Display Room Details\n",
      " 4 - Allocate Rooms\n",
      " 5 - Display Room Allocation Details\n",
      " 6 - Billing & De-Allocation\n",
      " 7 - Save Room Allocations To a File\n",
      " 8 - Show Room Allocations From a File\n",
      " 9 - Backup and Clear Room Allocation File\n",
      " 0 - Exit\n"
     ]
    },
    {
     "name": "stdin",
     "output_type": "stream",
     "text": [
      "Enter Your Choice Number:  1\n",
      "Enter Room Number to Add:  2\n"
     ]
    },
    {
     "name": "stdout",
     "output_type": "stream",
     "text": [
      "\n",
      "Add Room\n",
      "Available Room Types:\n",
      "- Standard (Weekly Price: $700, Features: TV, Fan)\n",
      "- Deluxe (Weekly Price: $1400, Features: TV, Aircon, WI-FI)\n",
      "- Suite (Weekly Price: $2450, Features: TV, Aircon, WI-FI, Balcony)\n"
     ]
    },
    {
     "name": "stdin",
     "output_type": "stream",
     "text": [
      "Enter room type for 2:  Deluxe\n"
     ]
    },
    {
     "name": "stdout",
     "output_type": "stream",
     "text": [
      "Room 2 (Deluxe) added successfully.\n",
      "\n",
      "LANGHAM HOTEL MANAGEMENT SYSTEM MENU\n",
      " 1 - Add Rooms\n",
      " 2 - Delete Rooms\n",
      " 3 - Display Room Details\n",
      " 4 - Allocate Rooms\n",
      " 5 - Display Room Allocation Details\n",
      " 6 - Billing & De-Allocation\n",
      " 7 - Save Room Allocations To a File\n",
      " 8 - Show Room Allocations From a File\n",
      " 9 - Backup and Clear Room Allocation File\n",
      " 0 - Exit\n"
     ]
    },
    {
     "name": "stdin",
     "output_type": "stream",
     "text": [
      "Enter Your Choice Number:  3\n"
     ]
    },
    {
     "name": "stdout",
     "output_type": "stream",
     "text": [
      "\n",
      "Display Room Details\n",
      "\n",
      "Room Details:\n",
      "Room 1: Standard | Weekly Price: $700 | Features: TV, Fan | Status: Unoccupied\n",
      "Room 2: Deluxe | Weekly Price: $1400 | Features: TV, Aircon, WI-FI | Status: Unoccupied\n",
      "\n",
      "LANGHAM HOTEL MANAGEMENT SYSTEM MENU\n",
      " 1 - Add Rooms\n",
      " 2 - Delete Rooms\n",
      " 3 - Display Room Details\n",
      " 4 - Allocate Rooms\n",
      " 5 - Display Room Allocation Details\n",
      " 6 - Billing & De-Allocation\n",
      " 7 - Save Room Allocations To a File\n",
      " 8 - Show Room Allocations From a File\n",
      " 9 - Backup and Clear Room Allocation File\n",
      " 0 - Exit\n"
     ]
    },
    {
     "name": "stdin",
     "output_type": "stream",
     "text": [
      "Enter Your Choice Number:  4\n",
      "Enter Room Number to Allocate:  1\n",
      "Enter Guest Name:  jade\n"
     ]
    },
    {
     "name": "stdout",
     "output_type": "stream",
     "text": [
      "\n",
      "Allocate Room 1 to jade\n",
      "Room 1 is a Standard room.\n"
     ]
    },
    {
     "name": "stdin",
     "output_type": "stream",
     "text": [
      "Enter number of days staying:  2\n"
     ]
    },
    {
     "name": "stdout",
     "output_type": "stream",
     "text": [
      "Room 1 (Standard) allocated to jade successfully for 2 days.\n",
      "\n",
      "LANGHAM HOTEL MANAGEMENT SYSTEM MENU\n",
      " 1 - Add Rooms\n",
      " 2 - Delete Rooms\n",
      " 3 - Display Room Details\n",
      " 4 - Allocate Rooms\n",
      " 5 - Display Room Allocation Details\n",
      " 6 - Billing & De-Allocation\n",
      " 7 - Save Room Allocations To a File\n",
      " 8 - Show Room Allocations From a File\n",
      " 9 - Backup and Clear Room Allocation File\n",
      " 0 - Exit\n"
     ]
    },
    {
     "name": "stdin",
     "output_type": "stream",
     "text": [
      "Enter Your Choice Number:  2\n",
      "Enter Room Number to Delete:  2\n"
     ]
    },
    {
     "name": "stdout",
     "output_type": "stream",
     "text": [
      "\n",
      " Delete Room 2\n",
      "Room 2 deleted successfully.\n",
      "\n",
      "LANGHAM HOTEL MANAGEMENT SYSTEM MENU\n",
      " 1 - Add Rooms\n",
      " 2 - Delete Rooms\n",
      " 3 - Display Room Details\n",
      " 4 - Allocate Rooms\n",
      " 5 - Display Room Allocation Details\n",
      " 6 - Billing & De-Allocation\n",
      " 7 - Save Room Allocations To a File\n",
      " 8 - Show Room Allocations From a File\n",
      " 9 - Backup and Clear Room Allocation File\n",
      " 0 - Exit\n"
     ]
    },
    {
     "name": "stdin",
     "output_type": "stream",
     "text": [
      "Enter Your Choice Number:  5\n"
     ]
    },
    {
     "name": "stdout",
     "output_type": "stream",
     "text": [
      "\n",
      "Display Allocated Rooms\n",
      "Room 1 (Standard) - Guest: jade - Weekly Price: $700 - Days Staying: 2 - Features: TV, Fan\n",
      "\n",
      "LANGHAM HOTEL MANAGEMENT SYSTEM MENU\n",
      " 1 - Add Rooms\n",
      " 2 - Delete Rooms\n",
      " 3 - Display Room Details\n",
      " 4 - Allocate Rooms\n",
      " 5 - Display Room Allocation Details\n",
      " 6 - Billing & De-Allocation\n",
      " 7 - Save Room Allocations To a File\n",
      " 8 - Show Room Allocations From a File\n",
      " 9 - Backup and Clear Room Allocation File\n",
      " 0 - Exit\n"
     ]
    },
    {
     "name": "stdin",
     "output_type": "stream",
     "text": [
      "Enter Your Choice Number:  6\n",
      "Enter Room Number to De-allocate:  1\n"
     ]
    },
    {
     "name": "stdout",
     "output_type": "stream",
     "text": [
      "\n",
      "Deallocate Room 1\n",
      "Room 1 released. Was occupied by jade.\n",
      "Billing Details: Room Type Standard, Features: TV, Fan.\n",
      "Weekly Rate: $700, Days Stayed: 2.\n",
      "Total Charge: $200.0.\n",
      "\n",
      "LANGHAM HOTEL MANAGEMENT SYSTEM MENU\n",
      " 1 - Add Rooms\n",
      " 2 - Delete Rooms\n",
      " 3 - Display Room Details\n",
      " 4 - Allocate Rooms\n",
      " 5 - Display Room Allocation Details\n",
      " 6 - Billing & De-Allocation\n",
      " 7 - Save Room Allocations To a File\n",
      " 8 - Show Room Allocations From a File\n",
      " 9 - Backup and Clear Room Allocation File\n",
      " 0 - Exit\n"
     ]
    },
    {
     "name": "stdin",
     "output_type": "stream",
     "text": [
      "Enter Your Choice Number:  \n"
     ]
    },
    {
     "name": "stdout",
     "output_type": "stream",
     "text": [
      "Invalid choice. Please enter a number from the menu.\n",
      "\n",
      "LANGHAM HOTEL MANAGEMENT SYSTEM MENU\n",
      " 1 - Add Rooms\n",
      " 2 - Delete Rooms\n",
      " 3 - Display Room Details\n",
      " 4 - Allocate Rooms\n",
      " 5 - Display Room Allocation Details\n",
      " 6 - Billing & De-Allocation\n",
      " 7 - Save Room Allocations To a File\n",
      " 8 - Show Room Allocations From a File\n",
      " 9 - Backup and Clear Room Allocation File\n",
      " 0 - Exit\n"
     ]
    },
    {
     "name": "stdin",
     "output_type": "stream",
     "text": [
      "Enter Your Choice Number:  =\n"
     ]
    },
    {
     "name": "stdout",
     "output_type": "stream",
     "text": [
      "Invalid choice. Please enter a number from the menu.\n",
      "\n",
      "LANGHAM HOTEL MANAGEMENT SYSTEM MENU\n",
      " 1 - Add Rooms\n",
      " 2 - Delete Rooms\n",
      " 3 - Display Room Details\n",
      " 4 - Allocate Rooms\n",
      " 5 - Display Room Allocation Details\n",
      " 6 - Billing & De-Allocation\n",
      " 7 - Save Room Allocations To a File\n",
      " 8 - Show Room Allocations From a File\n",
      " 9 - Backup and Clear Room Allocation File\n",
      " 0 - Exit\n"
     ]
    },
    {
     "name": "stdin",
     "output_type": "stream",
     "text": [
      "Enter Your Choice Number:  \n"
     ]
    },
    {
     "name": "stdout",
     "output_type": "stream",
     "text": [
      "Invalid choice. Please enter a number from the menu.\n",
      "\n",
      "LANGHAM HOTEL MANAGEMENT SYSTEM MENU\n",
      " 1 - Add Rooms\n",
      " 2 - Delete Rooms\n",
      " 3 - Display Room Details\n",
      " 4 - Allocate Rooms\n",
      " 5 - Display Room Allocation Details\n",
      " 6 - Billing & De-Allocation\n",
      " 7 - Save Room Allocations To a File\n",
      " 8 - Show Room Allocations From a File\n",
      " 9 - Backup and Clear Room Allocation File\n",
      " 0 - Exit\n"
     ]
    },
    {
     "name": "stdin",
     "output_type": "stream",
     "text": [
      "Enter Your Choice Number:  \n"
     ]
    },
    {
     "name": "stdout",
     "output_type": "stream",
     "text": [
      "Invalid choice. Please enter a number from the menu.\n",
      "\n",
      "LANGHAM HOTEL MANAGEMENT SYSTEM MENU\n",
      " 1 - Add Rooms\n",
      " 2 - Delete Rooms\n",
      " 3 - Display Room Details\n",
      " 4 - Allocate Rooms\n",
      " 5 - Display Room Allocation Details\n",
      " 6 - Billing & De-Allocation\n",
      " 7 - Save Room Allocations To a File\n",
      " 8 - Show Room Allocations From a File\n",
      " 9 - Backup and Clear Room Allocation File\n",
      " 0 - Exit\n"
     ]
    },
    {
     "name": "stdin",
     "output_type": "stream",
     "text": [
      "Enter Your Choice Number:  \n"
     ]
    },
    {
     "name": "stdout",
     "output_type": "stream",
     "text": [
      "Invalid choice. Please enter a number from the menu.\n",
      "\n",
      "LANGHAM HOTEL MANAGEMENT SYSTEM MENU\n",
      " 1 - Add Rooms\n",
      " 2 - Delete Rooms\n",
      " 3 - Display Room Details\n",
      " 4 - Allocate Rooms\n",
      " 5 - Display Room Allocation Details\n",
      " 6 - Billing & De-Allocation\n",
      " 7 - Save Room Allocations To a File\n",
      " 8 - Show Room Allocations From a File\n",
      " 9 - Backup and Clear Room Allocation File\n",
      " 0 - Exit\n"
     ]
    },
    {
     "name": "stdin",
     "output_type": "stream",
     "text": [
      "Enter Your Choice Number:  Z\n"
     ]
    },
    {
     "name": "stdout",
     "output_type": "stream",
     "text": [
      "Invalid choice. Please enter a number from the menu.\n",
      "\n",
      "LANGHAM HOTEL MANAGEMENT SYSTEM MENU\n",
      " 1 - Add Rooms\n",
      " 2 - Delete Rooms\n",
      " 3 - Display Room Details\n",
      " 4 - Allocate Rooms\n",
      " 5 - Display Room Allocation Details\n",
      " 6 - Billing & De-Allocation\n",
      " 7 - Save Room Allocations To a File\n",
      " 8 - Show Room Allocations From a File\n",
      " 9 - Backup and Clear Room Allocation File\n",
      " 0 - Exit\n"
     ]
    }
   ],
   "source": [
    "#MAIN PROGRAM BEGINS\n",
    "def main(): # Defines the main function\n",
    " \n",
    "    print(\"Welcome to Langham Hotel Management System!\")#header\n",
    "    while True: # starts loop to keep the program running\n",
    "        display_menu() # Calls the function display menu\n",
    "        try:\n",
    "            # asks the user to enter their choice number\n",
    "            choice = input(\"Enter Your Choice Number: \").strip()\n",
    "        except EOFError: # Catches EOFError\n",
    "            print(\"\\nEnd of input detected. Exiting system.\")\n",
    "            break # Exits the infinite loop\n",
    "        except KeyboardInterrupt: # Catches KeyboardInterrupt\n",
    "            print(\"\\nProgram interrupted by user. Exiting system.\")\n",
    "            break# Exits the infinite loop\n",
    "        except Exception as e: #catches other errors\n",
    "            print(f\"An unexpected error occurred : {e}. Please try again.\")\n",
    "            continue # Continues to the next iteration of the while loop\n",
    "\n",
    "        if choice == \"1\": # If option 1 is chosen, add a room\n",
    "            room_number = input(\"Enter Room Number to Add: \") # Add the room number\n",
    "            add_room(room_number)# Calls add room to add it\n",
    "        elif choice == \"2\":# If option 2 is chosen, delete the room\n",
    "            room_number = input(\"Enter Room Number to Delete: \")# Enter the room number\n",
    "            delete_room(room_number)# Deletes the room number\n",
    "        elif choice == \"3\":# If option 3 is chosen\n",
    "            display_rooms()# Display rooms shown\n",
    "        elif choice == \"4\": # If option 4 is chosen to allocate rooms\n",
    "            room_number = input(\"Enter Room Number to Allocate: \") # Add the room number you want to allocate\n",
    "            guest_name = input(\"Enter Guest Name: \")# add guest name\n",
    "            allocate_room(room_number, guest_name)# Calls the function to allocate room to the guest\n",
    "        elif choice == \"5\":# If option 5 is chosen to display allocated rooms\n",
    "            display_allocated_rooms() # Calls the function to display allocated rooms\n",
    "        elif choice == \"6\":# If option 6 is chosen to De-allocate and billing \n",
    "            room_number = input(\"Enter Room Number to De-allocate: \")# add room number for deallocation\n",
    "            deallocate_room(room_number)# Calls the function to de-allocate \n",
    "        elif choice == \"7\": #If option 7 is chosen to save allocation to file\n",
    "            save_allocations_to_file()# Calls the function to save the current allocations\n",
    "        elif choice == \"8\":#If option 8 is chosen\n",
    "            display_allocations_from_file()# Calls the function to display allocations from file\n",
    "        elif choice == \"9\":#If option 9 is chosen\n",
    "            backup_and_clear_allocations()# Calls the function to back up and clear \n",
    "        elif choice == \"0\":#If option 0 is chosen. Exit system\n",
    "            print(\"Exiting Hotel Management System. Thank you .Goodbye!\")\n",
    "            break # Exits the infinite while loop\n",
    "        else: # If the user's choice does not match any of the options\n",
    "            print(\"Invalid choice. Please enter a number from the menu.\")\n",
    "\n",
    "# Run main program\n",
    "if __name__ == \"__main__\":\n",
    "    main() # Calls the main function to start"
   ]
  },
  {
   "cell_type": "code",
   "execution_count": null,
   "id": "a8c5b87e-8e63-42e9-a0e8-56f7191d7b00",
   "metadata": {},
   "outputs": [],
   "source": []
  }
 ],
 "metadata": {
  "kernelspec": {
   "display_name": "Python 3 (ipykernel)",
   "language": "python",
   "name": "python3"
  },
  "language_info": {
   "codemirror_mode": {
    "name": "ipython",
    "version": 3
   },
   "file_extension": ".py",
   "mimetype": "text/x-python",
   "name": "python",
   "nbconvert_exporter": "python",
   "pygments_lexer": "ipython3",
   "version": "3.12.7"
  }
 },
 "nbformat": 4,
 "nbformat_minor": 5
}
